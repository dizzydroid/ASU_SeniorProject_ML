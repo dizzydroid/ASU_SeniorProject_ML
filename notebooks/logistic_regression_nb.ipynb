{
 "cells": [
  {
   "cell_type": "markdown",
   "metadata": {},
   "source": [
    "**Logistic Regresion**"
   ]
  },
  {
   "cell_type": "code",
   "execution_count": 106,
   "metadata": {},
   "outputs": [],
   "source": [
    "import pandas as pd\n",
    "import numpy as np\n",
    "import os\n",
    "import joblib\n",
    "import matplotlib.pyplot as plt\n",
    "from sklearn.model_selection import train_test_split\n",
    "from sklearn.preprocessing import MinMaxScaler,StandardScaler\n",
    "from sklearn.linear_model import LogisticRegression\n",
    "from sklearn.model_selection import GridSearchCV\n",
    "import seaborn as sns\n",
    "from sklearn.metrics import accuracy_score, confusion_matrix, f1_score,precision_score, recall_score, f1_score, roc_auc_score, classification_report, roc_curve"
   ]
  },
  {
   "cell_type": "markdown",
   "metadata": {},
   "source": [
    "**Read Data File**"
   ]
  },
  {
   "cell_type": "code",
   "execution_count": 107,
   "metadata": {},
   "outputs": [
    {
     "name": "stdout",
     "output_type": "stream",
     "text": [
      "(863, 15)\n"
     ]
    },
    {
     "data": {
      "text/html": [
       "<div>\n",
       "<style scoped>\n",
       "    .dataframe tbody tr th:only-of-type {\n",
       "        vertical-align: middle;\n",
       "    }\n",
       "\n",
       "    .dataframe tbody tr th {\n",
       "        vertical-align: top;\n",
       "    }\n",
       "\n",
       "    .dataframe thead th {\n",
       "        text-align: right;\n",
       "    }\n",
       "</style>\n",
       "<table border=\"1\" class=\"dataframe\">\n",
       "  <thead>\n",
       "    <tr style=\"text-align: right;\">\n",
       "      <th></th>\n",
       "      <th>Unnamed: 0</th>\n",
       "      <th>location</th>\n",
       "      <th>country</th>\n",
       "      <th>gender</th>\n",
       "      <th>age</th>\n",
       "      <th>vis_wuhan</th>\n",
       "      <th>from_wuhan</th>\n",
       "      <th>symptom1</th>\n",
       "      <th>symptom2</th>\n",
       "      <th>symptom3</th>\n",
       "      <th>symptom4</th>\n",
       "      <th>symptom5</th>\n",
       "      <th>symptom6</th>\n",
       "      <th>diff_sym_hos</th>\n",
       "      <th>result</th>\n",
       "    </tr>\n",
       "  </thead>\n",
       "  <tbody>\n",
       "    <tr>\n",
       "      <th>0</th>\n",
       "      <td>0</td>\n",
       "      <td>104</td>\n",
       "      <td>8</td>\n",
       "      <td>1</td>\n",
       "      <td>66.0</td>\n",
       "      <td>1</td>\n",
       "      <td>0</td>\n",
       "      <td>14</td>\n",
       "      <td>31</td>\n",
       "      <td>19</td>\n",
       "      <td>12</td>\n",
       "      <td>3</td>\n",
       "      <td>1</td>\n",
       "      <td>8</td>\n",
       "      <td>1</td>\n",
       "    </tr>\n",
       "    <tr>\n",
       "      <th>1</th>\n",
       "      <td>1</td>\n",
       "      <td>101</td>\n",
       "      <td>8</td>\n",
       "      <td>0</td>\n",
       "      <td>56.0</td>\n",
       "      <td>0</td>\n",
       "      <td>1</td>\n",
       "      <td>14</td>\n",
       "      <td>31</td>\n",
       "      <td>19</td>\n",
       "      <td>12</td>\n",
       "      <td>3</td>\n",
       "      <td>1</td>\n",
       "      <td>0</td>\n",
       "      <td>0</td>\n",
       "    </tr>\n",
       "    <tr>\n",
       "      <th>2</th>\n",
       "      <td>2</td>\n",
       "      <td>137</td>\n",
       "      <td>8</td>\n",
       "      <td>1</td>\n",
       "      <td>46.0</td>\n",
       "      <td>0</td>\n",
       "      <td>1</td>\n",
       "      <td>14</td>\n",
       "      <td>31</td>\n",
       "      <td>19</td>\n",
       "      <td>12</td>\n",
       "      <td>3</td>\n",
       "      <td>1</td>\n",
       "      <td>13</td>\n",
       "      <td>0</td>\n",
       "    </tr>\n",
       "    <tr>\n",
       "      <th>3</th>\n",
       "      <td>3</td>\n",
       "      <td>116</td>\n",
       "      <td>8</td>\n",
       "      <td>0</td>\n",
       "      <td>60.0</td>\n",
       "      <td>1</td>\n",
       "      <td>0</td>\n",
       "      <td>14</td>\n",
       "      <td>31</td>\n",
       "      <td>19</td>\n",
       "      <td>12</td>\n",
       "      <td>3</td>\n",
       "      <td>1</td>\n",
       "      <td>0</td>\n",
       "      <td>0</td>\n",
       "    </tr>\n",
       "    <tr>\n",
       "      <th>4</th>\n",
       "      <td>4</td>\n",
       "      <td>116</td>\n",
       "      <td>8</td>\n",
       "      <td>1</td>\n",
       "      <td>58.0</td>\n",
       "      <td>0</td>\n",
       "      <td>0</td>\n",
       "      <td>14</td>\n",
       "      <td>31</td>\n",
       "      <td>19</td>\n",
       "      <td>12</td>\n",
       "      <td>3</td>\n",
       "      <td>1</td>\n",
       "      <td>0</td>\n",
       "      <td>0</td>\n",
       "    </tr>\n",
       "    <tr>\n",
       "      <th>5</th>\n",
       "      <td>5</td>\n",
       "      <td>23</td>\n",
       "      <td>8</td>\n",
       "      <td>0</td>\n",
       "      <td>44.0</td>\n",
       "      <td>0</td>\n",
       "      <td>1</td>\n",
       "      <td>14</td>\n",
       "      <td>31</td>\n",
       "      <td>19</td>\n",
       "      <td>12</td>\n",
       "      <td>3</td>\n",
       "      <td>1</td>\n",
       "      <td>0</td>\n",
       "      <td>0</td>\n",
       "    </tr>\n",
       "    <tr>\n",
       "      <th>6</th>\n",
       "      <td>6</td>\n",
       "      <td>105</td>\n",
       "      <td>8</td>\n",
       "      <td>1</td>\n",
       "      <td>34.0</td>\n",
       "      <td>0</td>\n",
       "      <td>1</td>\n",
       "      <td>14</td>\n",
       "      <td>31</td>\n",
       "      <td>19</td>\n",
       "      <td>12</td>\n",
       "      <td>3</td>\n",
       "      <td>1</td>\n",
       "      <td>0</td>\n",
       "      <td>0</td>\n",
       "    </tr>\n",
       "    <tr>\n",
       "      <th>7</th>\n",
       "      <td>7</td>\n",
       "      <td>13</td>\n",
       "      <td>8</td>\n",
       "      <td>1</td>\n",
       "      <td>37.0</td>\n",
       "      <td>1</td>\n",
       "      <td>0</td>\n",
       "      <td>14</td>\n",
       "      <td>31</td>\n",
       "      <td>19</td>\n",
       "      <td>12</td>\n",
       "      <td>3</td>\n",
       "      <td>1</td>\n",
       "      <td>6</td>\n",
       "      <td>0</td>\n",
       "    </tr>\n",
       "    <tr>\n",
       "      <th>8</th>\n",
       "      <td>8</td>\n",
       "      <td>13</td>\n",
       "      <td>8</td>\n",
       "      <td>1</td>\n",
       "      <td>39.0</td>\n",
       "      <td>1</td>\n",
       "      <td>0</td>\n",
       "      <td>14</td>\n",
       "      <td>31</td>\n",
       "      <td>19</td>\n",
       "      <td>12</td>\n",
       "      <td>3</td>\n",
       "      <td>1</td>\n",
       "      <td>5</td>\n",
       "      <td>0</td>\n",
       "    </tr>\n",
       "    <tr>\n",
       "      <th>9</th>\n",
       "      <td>9</td>\n",
       "      <td>13</td>\n",
       "      <td>8</td>\n",
       "      <td>1</td>\n",
       "      <td>56.0</td>\n",
       "      <td>1</td>\n",
       "      <td>0</td>\n",
       "      <td>14</td>\n",
       "      <td>31</td>\n",
       "      <td>19</td>\n",
       "      <td>12</td>\n",
       "      <td>3</td>\n",
       "      <td>1</td>\n",
       "      <td>4</td>\n",
       "      <td>0</td>\n",
       "    </tr>\n",
       "  </tbody>\n",
       "</table>\n",
       "</div>"
      ],
      "text/plain": [
       "   Unnamed: 0  location  country  gender   age  vis_wuhan  from_wuhan  \\\n",
       "0           0       104        8       1  66.0          1           0   \n",
       "1           1       101        8       0  56.0          0           1   \n",
       "2           2       137        8       1  46.0          0           1   \n",
       "3           3       116        8       0  60.0          1           0   \n",
       "4           4       116        8       1  58.0          0           0   \n",
       "5           5        23        8       0  44.0          0           1   \n",
       "6           6       105        8       1  34.0          0           1   \n",
       "7           7        13        8       1  37.0          1           0   \n",
       "8           8        13        8       1  39.0          1           0   \n",
       "9           9        13        8       1  56.0          1           0   \n",
       "\n",
       "   symptom1  symptom2  symptom3  symptom4  symptom5  symptom6  diff_sym_hos  \\\n",
       "0        14        31        19        12         3         1             8   \n",
       "1        14        31        19        12         3         1             0   \n",
       "2        14        31        19        12         3         1            13   \n",
       "3        14        31        19        12         3         1             0   \n",
       "4        14        31        19        12         3         1             0   \n",
       "5        14        31        19        12         3         1             0   \n",
       "6        14        31        19        12         3         1             0   \n",
       "7        14        31        19        12         3         1             6   \n",
       "8        14        31        19        12         3         1             5   \n",
       "9        14        31        19        12         3         1             4   \n",
       "\n",
       "   result  \n",
       "0       1  \n",
       "1       0  \n",
       "2       0  \n",
       "3       0  \n",
       "4       0  \n",
       "5       0  \n",
       "6       0  \n",
       "7       0  \n",
       "8       0  \n",
       "9       0  "
      ]
     },
     "execution_count": 107,
     "metadata": {},
     "output_type": "execute_result"
    }
   ],
   "source": [
    "df=pd.read_csv(\"data.csv\")\n",
    "print(df.shape)\n",
    "df.head(10)"
   ]
  },
  {
   "cell_type": "markdown",
   "metadata": {},
   "source": [
    "**Understand the Data**"
   ]
  },
  {
   "cell_type": "code",
   "execution_count": 108,
   "metadata": {},
   "outputs": [
    {
     "data": {
      "text/html": [
       "<div>\n",
       "<style scoped>\n",
       "    .dataframe tbody tr th:only-of-type {\n",
       "        vertical-align: middle;\n",
       "    }\n",
       "\n",
       "    .dataframe tbody tr th {\n",
       "        vertical-align: top;\n",
       "    }\n",
       "\n",
       "    .dataframe thead th {\n",
       "        text-align: right;\n",
       "    }\n",
       "</style>\n",
       "<table border=\"1\" class=\"dataframe\">\n",
       "  <thead>\n",
       "    <tr style=\"text-align: right;\">\n",
       "      <th></th>\n",
       "      <th>Unnamed: 0</th>\n",
       "      <th>location</th>\n",
       "      <th>country</th>\n",
       "      <th>gender</th>\n",
       "      <th>age</th>\n",
       "      <th>vis_wuhan</th>\n",
       "      <th>from_wuhan</th>\n",
       "      <th>symptom1</th>\n",
       "      <th>symptom2</th>\n",
       "      <th>symptom3</th>\n",
       "      <th>symptom4</th>\n",
       "      <th>symptom5</th>\n",
       "      <th>symptom6</th>\n",
       "      <th>diff_sym_hos</th>\n",
       "      <th>result</th>\n",
       "    </tr>\n",
       "  </thead>\n",
       "  <tbody>\n",
       "    <tr>\n",
       "      <th>count</th>\n",
       "      <td>863.000000</td>\n",
       "      <td>863.000000</td>\n",
       "      <td>863.000000</td>\n",
       "      <td>863.000000</td>\n",
       "      <td>863.000000</td>\n",
       "      <td>863.000000</td>\n",
       "      <td>863.000000</td>\n",
       "      <td>863.00000</td>\n",
       "      <td>863.000000</td>\n",
       "      <td>863.000000</td>\n",
       "      <td>863.000000</td>\n",
       "      <td>863.000000</td>\n",
       "      <td>863.000000</td>\n",
       "      <td>863.000000</td>\n",
       "      <td>863.000000</td>\n",
       "    </tr>\n",
       "    <tr>\n",
       "      <th>mean</th>\n",
       "      <td>431.000000</td>\n",
       "      <td>76.645423</td>\n",
       "      <td>16.995365</td>\n",
       "      <td>0.849363</td>\n",
       "      <td>49.400000</td>\n",
       "      <td>0.181924</td>\n",
       "      <td>0.107764</td>\n",
       "      <td>12.13905</td>\n",
       "      <td>28.002317</td>\n",
       "      <td>18.298957</td>\n",
       "      <td>11.840093</td>\n",
       "      <td>2.993048</td>\n",
       "      <td>0.998841</td>\n",
       "      <td>0.995365</td>\n",
       "      <td>0.125145</td>\n",
       "    </tr>\n",
       "    <tr>\n",
       "      <th>std</th>\n",
       "      <td>249.270937</td>\n",
       "      <td>39.200264</td>\n",
       "      <td>7.809951</td>\n",
       "      <td>0.726062</td>\n",
       "      <td>15.079203</td>\n",
       "      <td>0.386005</td>\n",
       "      <td>0.310261</td>\n",
       "      <td>3.99787</td>\n",
       "      <td>7.473231</td>\n",
       "      <td>2.864064</td>\n",
       "      <td>1.183771</td>\n",
       "      <td>0.127251</td>\n",
       "      <td>0.034040</td>\n",
       "      <td>2.358767</td>\n",
       "      <td>0.331075</td>\n",
       "    </tr>\n",
       "    <tr>\n",
       "      <th>min</th>\n",
       "      <td>0.000000</td>\n",
       "      <td>0.000000</td>\n",
       "      <td>0.000000</td>\n",
       "      <td>0.000000</td>\n",
       "      <td>2.000000</td>\n",
       "      <td>0.000000</td>\n",
       "      <td>0.000000</td>\n",
       "      <td>0.00000</td>\n",
       "      <td>0.000000</td>\n",
       "      <td>0.000000</td>\n",
       "      <td>0.000000</td>\n",
       "      <td>0.000000</td>\n",
       "      <td>0.000000</td>\n",
       "      <td>-5.000000</td>\n",
       "      <td>0.000000</td>\n",
       "    </tr>\n",
       "    <tr>\n",
       "      <th>25%</th>\n",
       "      <td>215.500000</td>\n",
       "      <td>45.000000</td>\n",
       "      <td>11.000000</td>\n",
       "      <td>0.000000</td>\n",
       "      <td>40.000000</td>\n",
       "      <td>0.000000</td>\n",
       "      <td>0.000000</td>\n",
       "      <td>14.00000</td>\n",
       "      <td>31.000000</td>\n",
       "      <td>19.000000</td>\n",
       "      <td>12.000000</td>\n",
       "      <td>3.000000</td>\n",
       "      <td>1.000000</td>\n",
       "      <td>0.000000</td>\n",
       "      <td>0.000000</td>\n",
       "    </tr>\n",
       "    <tr>\n",
       "      <th>50%</th>\n",
       "      <td>431.000000</td>\n",
       "      <td>87.000000</td>\n",
       "      <td>18.000000</td>\n",
       "      <td>1.000000</td>\n",
       "      <td>49.400000</td>\n",
       "      <td>0.000000</td>\n",
       "      <td>0.000000</td>\n",
       "      <td>14.00000</td>\n",
       "      <td>31.000000</td>\n",
       "      <td>19.000000</td>\n",
       "      <td>12.000000</td>\n",
       "      <td>3.000000</td>\n",
       "      <td>1.000000</td>\n",
       "      <td>0.000000</td>\n",
       "      <td>0.000000</td>\n",
       "    </tr>\n",
       "    <tr>\n",
       "      <th>75%</th>\n",
       "      <td>646.500000</td>\n",
       "      <td>110.000000</td>\n",
       "      <td>24.000000</td>\n",
       "      <td>1.000000</td>\n",
       "      <td>57.000000</td>\n",
       "      <td>0.000000</td>\n",
       "      <td>0.000000</td>\n",
       "      <td>14.00000</td>\n",
       "      <td>31.000000</td>\n",
       "      <td>19.000000</td>\n",
       "      <td>12.000000</td>\n",
       "      <td>3.000000</td>\n",
       "      <td>1.000000</td>\n",
       "      <td>1.000000</td>\n",
       "      <td>0.000000</td>\n",
       "    </tr>\n",
       "    <tr>\n",
       "      <th>max</th>\n",
       "      <td>862.000000</td>\n",
       "      <td>138.000000</td>\n",
       "      <td>33.000000</td>\n",
       "      <td>2.000000</td>\n",
       "      <td>96.000000</td>\n",
       "      <td>1.000000</td>\n",
       "      <td>1.000000</td>\n",
       "      <td>24.00000</td>\n",
       "      <td>31.000000</td>\n",
       "      <td>19.000000</td>\n",
       "      <td>12.000000</td>\n",
       "      <td>3.000000</td>\n",
       "      <td>1.000000</td>\n",
       "      <td>15.000000</td>\n",
       "      <td>1.000000</td>\n",
       "    </tr>\n",
       "  </tbody>\n",
       "</table>\n",
       "</div>"
      ],
      "text/plain": [
       "       Unnamed: 0    location     country      gender         age   vis_wuhan  \\\n",
       "count  863.000000  863.000000  863.000000  863.000000  863.000000  863.000000   \n",
       "mean   431.000000   76.645423   16.995365    0.849363   49.400000    0.181924   \n",
       "std    249.270937   39.200264    7.809951    0.726062   15.079203    0.386005   \n",
       "min      0.000000    0.000000    0.000000    0.000000    2.000000    0.000000   \n",
       "25%    215.500000   45.000000   11.000000    0.000000   40.000000    0.000000   \n",
       "50%    431.000000   87.000000   18.000000    1.000000   49.400000    0.000000   \n",
       "75%    646.500000  110.000000   24.000000    1.000000   57.000000    0.000000   \n",
       "max    862.000000  138.000000   33.000000    2.000000   96.000000    1.000000   \n",
       "\n",
       "       from_wuhan   symptom1    symptom2    symptom3    symptom4    symptom5  \\\n",
       "count  863.000000  863.00000  863.000000  863.000000  863.000000  863.000000   \n",
       "mean     0.107764   12.13905   28.002317   18.298957   11.840093    2.993048   \n",
       "std      0.310261    3.99787    7.473231    2.864064    1.183771    0.127251   \n",
       "min      0.000000    0.00000    0.000000    0.000000    0.000000    0.000000   \n",
       "25%      0.000000   14.00000   31.000000   19.000000   12.000000    3.000000   \n",
       "50%      0.000000   14.00000   31.000000   19.000000   12.000000    3.000000   \n",
       "75%      0.000000   14.00000   31.000000   19.000000   12.000000    3.000000   \n",
       "max      1.000000   24.00000   31.000000   19.000000   12.000000    3.000000   \n",
       "\n",
       "         symptom6  diff_sym_hos      result  \n",
       "count  863.000000    863.000000  863.000000  \n",
       "mean     0.998841      0.995365    0.125145  \n",
       "std      0.034040      2.358767    0.331075  \n",
       "min      0.000000     -5.000000    0.000000  \n",
       "25%      1.000000      0.000000    0.000000  \n",
       "50%      1.000000      0.000000    0.000000  \n",
       "75%      1.000000      1.000000    0.000000  \n",
       "max      1.000000     15.000000    1.000000  "
      ]
     },
     "execution_count": 108,
     "metadata": {},
     "output_type": "execute_result"
    }
   ],
   "source": [
    "df.describe()"
   ]
  },
  {
   "cell_type": "code",
   "execution_count": 109,
   "metadata": {},
   "outputs": [
    {
     "name": "stdout",
     "output_type": "stream",
     "text": [
      "<class 'pandas.core.frame.DataFrame'>\n",
      "RangeIndex: 863 entries, 0 to 862\n",
      "Data columns (total 15 columns):\n",
      " #   Column        Non-Null Count  Dtype  \n",
      "---  ------        --------------  -----  \n",
      " 0   Unnamed: 0    863 non-null    int64  \n",
      " 1   location      863 non-null    int64  \n",
      " 2   country       863 non-null    int64  \n",
      " 3   gender        863 non-null    int64  \n",
      " 4   age           863 non-null    float64\n",
      " 5   vis_wuhan     863 non-null    int64  \n",
      " 6   from_wuhan    863 non-null    int64  \n",
      " 7   symptom1      863 non-null    int64  \n",
      " 8   symptom2      863 non-null    int64  \n",
      " 9   symptom3      863 non-null    int64  \n",
      " 10  symptom4      863 non-null    int64  \n",
      " 11  symptom5      863 non-null    int64  \n",
      " 12  symptom6      863 non-null    int64  \n",
      " 13  diff_sym_hos  863 non-null    int64  \n",
      " 14  result        863 non-null    int64  \n",
      "dtypes: float64(1), int64(14)\n",
      "memory usage: 101.3 KB\n"
     ]
    }
   ],
   "source": [
    "df.info()"
   ]
  },
  {
   "cell_type": "markdown",
   "metadata": {},
   "source": [
    "**Drop unnecessary attribute**"
   ]
  },
  {
   "cell_type": "code",
   "execution_count": 110,
   "metadata": {},
   "outputs": [
    {
     "name": "stdout",
     "output_type": "stream",
     "text": [
      "(863, 14)\n"
     ]
    }
   ],
   "source": [
    "df.drop(columns=[\"Unnamed: 0\"],inplace=True)\n",
    "print(df.shape)"
   ]
  },
  {
   "cell_type": "markdown",
   "metadata": {},
   "source": [
    "**Split the data into Train, Test and Validate**"
   ]
  },
  {
   "cell_type": "code",
   "execution_count": 111,
   "metadata": {},
   "outputs": [
    {
     "name": "stdout",
     "output_type": "stream",
     "text": [
      "604\n",
      "129\n",
      "130\n"
     ]
    }
   ],
   "source": [
    "X=df.drop(columns=\"result\")\n",
    "Y=df[\"result\"]\n",
    "x_train,x_test_val,y_train,y_test_val=train_test_split(X,Y,test_size=0.3,train_size=0.7,random_state=42)\n",
    "x_test,x_val,y_test,y_val=train_test_split(x_test_val,y_test_val,train_size=0.5,random_state=30)\n",
    "print(len(x_train))\n",
    "print(len(x_test))\n",
    "print(len(x_val))"
   ]
  },
  {
   "cell_type": "markdown",
   "metadata": {},
   "source": [
    "**Feature Scaling**"
   ]
  },
  {
   "cell_type": "code",
   "execution_count": 112,
   "metadata": {},
   "outputs": [
    {
     "name": "stdout",
     "output_type": "stream",
     "text": [
      "   location   country  gender       age  vis_wuhan  from_wuhan  symptom1  \\\n",
      "0  0.782609  0.727273     1.0  0.487912        0.0         0.0  0.583333   \n",
      "1  0.007246  0.545455     0.5  0.439560        0.0         1.0  0.250000   \n",
      "2  0.768116  0.696970     0.0  0.472527        0.0         0.0  0.583333   \n",
      "3  0.782609  0.727273     1.0  0.487912        0.0         0.0  0.583333   \n",
      "4  0.318841  0.545455     0.5  0.000000        0.0         0.0  0.250000   \n",
      "\n",
      "   symptom2  symptom3  symptom4  symptom5  symptom6  diff_sym_hos  \n",
      "0  1.000000       1.0       1.0       1.0       0.0      0.263158  \n",
      "1  1.000000       1.0       1.0       1.0       0.0      0.473684  \n",
      "2  1.000000       1.0       1.0       1.0       0.0      0.736842  \n",
      "3  1.000000       1.0       1.0       1.0       0.0      0.263158  \n",
      "4  0.225806       1.0       1.0       1.0       0.0      0.421053  \n",
      "--------------------------------------------------------------------------------------------\n",
      "   location   country  gender       age  vis_wuhan  from_wuhan  symptom1  \\\n",
      "0  0.782609  0.727273     1.0  0.487912        0.0         0.0  0.583333   \n",
      "1  0.007246  0.545455     0.5  0.439560        0.0         1.0  0.250000   \n",
      "2  0.768116  0.696970     0.0  0.472527        0.0         0.0  0.583333   \n",
      "3  0.782609  0.727273     1.0  0.487912        0.0         0.0  0.583333   \n",
      "4  0.318841  0.545455     0.5  0.000000        0.0         0.0  0.250000   \n",
      "\n",
      "   symptom2  symptom3  symptom4  symptom5  symptom6  diff_sym_hos  \n",
      "0  1.000000       1.0       1.0       1.0       0.0      0.263158  \n",
      "1  1.000000       1.0       1.0       1.0       0.0      0.473684  \n",
      "2  1.000000       1.0       1.0       1.0       0.0      0.736842  \n",
      "3  1.000000       1.0       1.0       1.0       0.0      0.263158  \n",
      "4  0.225806       1.0       1.0       1.0       0.0      0.421053  \n"
     ]
    }
   ],
   "source": [
    "############ MnMax scaled ###################\n",
    "Scaler=MinMaxScaler()\n",
    "Scaler.fit(x_train)\n",
    "x_train_scaled=Scaler.transform(x_train)\n",
    "x_train_scaled=pd.DataFrame(x_train_scaled)\n",
    "x_train_scaled.columns=x_train.columns\n",
    "############ Standard scaled ###################\n",
    "Scaler2=StandardScaler()\n",
    "Scaler2.fit(x_train)\n",
    "x_train_scaled2=Scaler.transform(x_train)\n",
    "x_train_scaled2=pd.DataFrame(x_train_scaled2)\n",
    "x_train_scaled2.columns=x_train.columns\n",
    "########################################## \n",
    "print(x_train_scaled.head())\n",
    "print(\"--------------------------------------------------------------------------------------------\")\n",
    "print(x_train_scaled2.head())"
   ]
  },
  {
   "cell_type": "markdown",
   "metadata": {},
   "source": [
    "**Hyper-Parameters**"
   ]
  },
  {
   "cell_type": "code",
   "execution_count": 113,
   "metadata": {},
   "outputs": [],
   "source": [
    "param_grid = {\n",
    "    'C': [0.01, 0.1, 1, 10, 100],\n",
    "    'penalty': ['l1', 'l2', 'elasticnet'],\n",
    "    'solver': ['liblinear', 'saga']\n",
    "}\n"
   ]
  },
  {
   "cell_type": "markdown",
   "metadata": {},
   "source": [
    "**Tunning using Grid search**"
   ]
  },
  {
   "cell_type": "code",
   "execution_count": 114,
   "metadata": {},
   "outputs": [],
   "source": [
    "model = LogisticRegression(max_iter=1000)\n",
    "grid_search = GridSearchCV(\n",
    "    estimator=model,\n",
    "    param_grid=param_grid,\n",
    "    scoring='accuracy',\n",
    "    cv=5,  # 5-fold cross-validation\n",
    "    verbose=1,\n",
    "    refit=True  #refit the model after getting the best parameters\n",
    ")\n",
    "\n"
   ]
  },
  {
   "cell_type": "markdown",
   "metadata": {},
   "source": [
    "**Model Training**"
   ]
  },
  {
   "cell_type": "code",
   "execution_count": 122,
   "metadata": {},
   "outputs": [
    {
     "name": "stdout",
     "output_type": "stream",
     "text": [
      "Fitting 5 folds for each of 30 candidates, totalling 150 fits\n"
     ]
    },
    {
     "name": "stderr",
     "output_type": "stream",
     "text": [
      "c:\\Users\\kareem\\anaconda3\\Lib\\site-packages\\sklearn\\linear_model\\_sag.py:350: ConvergenceWarning: The max_iter was reached which means the coef_ did not converge\n",
      "  warnings.warn(\n",
      "c:\\Users\\kareem\\anaconda3\\Lib\\site-packages\\sklearn\\linear_model\\_sag.py:350: ConvergenceWarning: The max_iter was reached which means the coef_ did not converge\n",
      "  warnings.warn(\n",
      "c:\\Users\\kareem\\anaconda3\\Lib\\site-packages\\sklearn\\linear_model\\_sag.py:350: ConvergenceWarning: The max_iter was reached which means the coef_ did not converge\n",
      "  warnings.warn(\n",
      "c:\\Users\\kareem\\anaconda3\\Lib\\site-packages\\sklearn\\linear_model\\_sag.py:350: ConvergenceWarning: The max_iter was reached which means the coef_ did not converge\n",
      "  warnings.warn(\n",
      "c:\\Users\\kareem\\anaconda3\\Lib\\site-packages\\sklearn\\linear_model\\_sag.py:350: ConvergenceWarning: The max_iter was reached which means the coef_ did not converge\n",
      "  warnings.warn(\n",
      "c:\\Users\\kareem\\anaconda3\\Lib\\site-packages\\sklearn\\model_selection\\_validation.py:547: FitFailedWarning: \n",
      "50 fits failed out of a total of 150.\n",
      "The score on these train-test partitions for these parameters will be set to nan.\n",
      "If these failures are not expected, you can try to debug them by setting error_score='raise'.\n",
      "\n",
      "Below are more details about the failures:\n",
      "--------------------------------------------------------------------------------\n",
      "25 fits failed with the following error:\n",
      "Traceback (most recent call last):\n",
      "  File \"c:\\Users\\kareem\\anaconda3\\Lib\\site-packages\\sklearn\\model_selection\\_validation.py\", line 895, in _fit_and_score\n",
      "    estimator.fit(X_train, y_train, **fit_params)\n",
      "  File \"c:\\Users\\kareem\\anaconda3\\Lib\\site-packages\\sklearn\\base.py\", line 1474, in wrapper\n",
      "    return fit_method(estimator, *args, **kwargs)\n",
      "           ^^^^^^^^^^^^^^^^^^^^^^^^^^^^^^^^^^^^^^\n",
      "  File \"c:\\Users\\kareem\\anaconda3\\Lib\\site-packages\\sklearn\\linear_model\\_logistic.py\", line 1172, in fit\n",
      "    solver = _check_solver(self.solver, self.penalty, self.dual)\n",
      "             ^^^^^^^^^^^^^^^^^^^^^^^^^^^^^^^^^^^^^^^^^^^^^^^^^^^\n",
      "  File \"c:\\Users\\kareem\\anaconda3\\Lib\\site-packages\\sklearn\\linear_model\\_logistic.py\", line 75, in _check_solver\n",
      "    raise ValueError(\n",
      "ValueError: Only 'saga' solver supports elasticnet penalty, got solver=liblinear.\n",
      "\n",
      "--------------------------------------------------------------------------------\n",
      "25 fits failed with the following error:\n",
      "Traceback (most recent call last):\n",
      "  File \"c:\\Users\\kareem\\anaconda3\\Lib\\site-packages\\sklearn\\model_selection\\_validation.py\", line 895, in _fit_and_score\n",
      "    estimator.fit(X_train, y_train, **fit_params)\n",
      "  File \"c:\\Users\\kareem\\anaconda3\\Lib\\site-packages\\sklearn\\base.py\", line 1474, in wrapper\n",
      "    return fit_method(estimator, *args, **kwargs)\n",
      "           ^^^^^^^^^^^^^^^^^^^^^^^^^^^^^^^^^^^^^^\n",
      "  File \"c:\\Users\\kareem\\anaconda3\\Lib\\site-packages\\sklearn\\linear_model\\_logistic.py\", line 1182, in fit\n",
      "    raise ValueError(\"l1_ratio must be specified when penalty is elasticnet.\")\n",
      "ValueError: l1_ratio must be specified when penalty is elasticnet.\n",
      "\n",
      "  warnings.warn(some_fits_failed_message, FitFailedWarning)\n",
      "c:\\Users\\kareem\\anaconda3\\Lib\\site-packages\\sklearn\\model_selection\\_search.py:1051: UserWarning: One or more of the test scores are non-finite: [0.87417355 0.87417355 0.87417355 0.87417355        nan        nan\n",
      " 0.87417355 0.87417355 0.87417355 0.87417355        nan        nan\n",
      " 0.93714876 0.9437741  0.88907713 0.88907713        nan        nan\n",
      " 0.94374656 0.94705234 0.9437741  0.94541322        nan        nan\n",
      " 0.94539945 0.94539945 0.94539945 0.94705234        nan        nan]\n",
      "  warnings.warn(\n"
     ]
    },
    {
     "name": "stdout",
     "output_type": "stream",
     "text": [
      "Best Parameters: {'C': 10, 'penalty': 'l1', 'solver': 'saga'}\n",
      "Best Score: 0.9470523415977962\n"
     ]
    }
   ],
   "source": [
    "\n",
    "grid_search.fit(x_train_scaled, y_train)\n",
    "\"\"\" note : max_iter (no. of optimization iterations done by model to find global minimum) is set by trial and error\n",
    "           in order to get best results\n",
    "\"\"\"\n",
    "best_model=grid_search.best_estimator_\n",
    "best_model.fit(x_train_scaled,y_train)\n",
    "print(\"Best Parameters:\", grid_search.best_params_)\n",
    "print(\"Best Score:\", grid_search.best_score_)"
   ]
  },
  {
   "cell_type": "markdown",
   "metadata": {},
   "source": [
    "**Model Test**"
   ]
  },
  {
   "cell_type": "code",
   "execution_count": 116,
   "metadata": {},
   "outputs": [],
   "source": [
    "x_test_scaled=pd.DataFrame(Scaler.transform(x_test))  #apply transformation to the test data directly with the same parameters of the training data to avoid data leakage\n",
    "x_test_scaled.columns=x_test.columns\n",
    "y_predict=best_model.predict(x_test_scaled)\n"
   ]
  },
  {
   "cell_type": "code",
   "execution_count": 117,
   "metadata": {},
   "outputs": [
    {
     "name": "stdout",
     "output_type": "stream",
     "text": [
      "Accuracy: \n",
      "0.9457364341085271\n",
      "[[108   1]\n",
      " [  6  14]]\n"
     ]
    }
   ],
   "source": [
    "accuracy=accuracy_score(y_test,y_predict)\n",
    "print(\"Accuracy: \")\n",
    "print(accuracy)\n",
    "confusion_mat=confusion_matrix(y_test,y_predict)\n",
    "print(confusion_mat)\n",
    "\n"
   ]
  },
  {
   "cell_type": "code",
   "execution_count": 118,
   "metadata": {},
   "outputs": [
    {
     "name": "stdout",
     "output_type": "stream",
     "text": [
      "[[115   3]\n",
      " [  6   6]]\n",
      "0.9307692307692308\n"
     ]
    }
   ],
   "source": [
    "x_val_scaled=pd.DataFrame(Scaler.transform(x_val))\n",
    "x_val_scaled.columns=x_val.columns\n",
    "y_val_predict=best_model.predict(x_val_scaled)\n",
    "\n",
    "confusion_mat_val=confusion_matrix(y_val,y_val_predict)\n",
    "print(confusion_mat_val)\n",
    "acc2=accuracy_score(y_val,y_val_predict)\n",
    "print(acc2)"
   ]
  },
  {
   "cell_type": "markdown",
   "metadata": {},
   "source": [
    "**Model Ealuation**"
   ]
  },
  {
   "cell_type": "code",
   "execution_count": 119,
   "metadata": {},
   "outputs": [
    {
     "name": "stdout",
     "output_type": "stream",
     "text": [
      "Precision: 0.6666666666666666\n",
      "Recall: 0.5\n",
      "F1 Score: 0.5714285714285714\n",
      "ROC AUC Score: 0.7372881355932203\n",
      "Confusion Matrix:\n"
     ]
    },
    {
     "data": {
      "image/png": "[encoded data removed]",
      "text/plain": [
       "<Figure size 640x480 with 2 Axes>"
      ]
     },
     "metadata": {},
     "output_type": "display_data"
    },
    {
     "name": "stdout",
     "output_type": "stream",
     "text": [
      "\n",
      "Classification Report:\n",
      "              precision    recall  f1-score   support\n",
      "\n",
      "           0       0.95      0.97      0.96       118\n",
      "           1       0.67      0.50      0.57        12\n",
      "\n",
      "    accuracy                           0.93       130\n",
      "   macro avg       0.81      0.74      0.77       130\n",
      "weighted avg       0.92      0.93      0.93       130\n",
      "\n"
     ]
    }
   ],
   "source": [
    "# Calculate evaluation metrics\n",
    "precision = precision_score(y_val, y_val_predict)\n",
    "recall = recall_score(y_val, y_val_predict)\n",
    "f1 = f1_score(y_val, y_val_predict)\n",
    "roc_auc = roc_auc_score(y_val, y_val_predict)\n",
    "\n",
    "# Display the evaluation metrics\n",
    "print(\"Precision:\", precision)\n",
    "print(\"Recall:\", recall)\n",
    "print(\"F1 Score:\", f1)\n",
    "print(\"ROC AUC Score:\", roc_auc)\n",
    "\n",
    "# Print the confusion matrix and classification report\n",
    "print(\"Confusion Matrix:\")\n",
    "conf_matrix = confusion_matrix(y_val, y_val_predict)\n",
    "sns.heatmap(conf_matrix, annot=True, fmt='d', cmap='Blues', xticklabels=['Predicted Negative', 'Predicted Positive'], yticklabels=['Actual Negative', 'Actual Positive'])\n",
    "plt.xlabel('Predicted')\n",
    "plt.ylabel('Actual')\n",
    "plt.show()\n",
    "\n",
    "print(\"\\nClassification Report:\")\n",
    "print(classification_report(y_val, y_val_predict))"
   ]
  },
  {
   "cell_type": "markdown",
   "metadata": {},
   "source": [
    "**ROC Curve Results**"
   ]
  },
  {
   "cell_type": "code",
   "execution_count": 120,
   "metadata": {},
   "outputs": [
    {
     "data": {
      "image/png": "[encoded data removed]",
      "text/plain": [
       "<Figure size 800x600 with 1 Axes>"
      ]
     },
     "metadata": {},
     "output_type": "display_data"
    }
   ],
   "source": [
    "# Compute ROC curve\n",
    "y_val_prob=best_model.predict_proba(x_val_scaled)[:,1]\n",
    "fpr, tpr, thresholds = roc_curve(y_val, y_val_prob)\n",
    "\n",
    "# Plot ROC curve\n",
    "plt.figure(figsize=(8,6))\n",
    "plt.plot(fpr, tpr, label=f'GaussianNB (AUC = {roc_auc:.4f})')\n",
    "plt.plot([0,1], [0,1], 'k--')  # Diagonal line\n",
    "plt.xlabel('False Positive Rate')\n",
    "plt.ylabel('True Positive Rate')\n",
    "plt.title('ROC Curve - Gaussian Naïve Bayes')\n",
    "plt.legend(loc='lower right')\n",
    "plt.show()"
   ]
  },
  {
   "cell_type": "markdown",
   "metadata": {},
   "source": [
    "**Export the Model**"
   ]
  },
  {
   "cell_type": "code",
   "execution_count": 121,
   "metadata": {},
   "outputs": [
    {
     "name": "stdout",
     "output_type": "stream",
     "text": [
      "Model saved to models/logistic_regression/logistic_regression_model.joblib\n",
      "Scaler saved to models/logistic_regression/scaler.joblib\n"
     ]
    }
   ],
   "source": [
    "# Define the directory to save the model\n",
    "model_dir = 'models/logistic_regression/'\n",
    "\n",
    "# Create the directory if it doesn't exist\n",
    "os.makedirs(model_dir, exist_ok=True)\n",
    "\n",
    "# Save the trained model\n",
    "model_path = os.path.join(model_dir, 'logistic_regression_model.joblib')\n",
    "joblib.dump(best_model, model_path)\n",
    "print(f\"Model saved to {model_path}\")\n",
    "\n",
    "# Also, save the scaler to ensure consistent preprocessing\n",
    "scaler_path = os.path.join(model_dir, 'scaler.joblib')\n",
    "joblib.dump(Scaler, scaler_path)\n",
    "print(f\"Scaler saved to {scaler_path}\")"
   ]
  }
 ],
 "metadata": {
  "kernelspec": {
   "display_name": "base",
   "language": "python",
   "name": "python3"
  },
  "language_info": {
   "codemirror_mode": {
    "name": "ipython",
    "version": 3
   },
   "file_extension": ".py",
   "mimetype": "text/x-python",
   "name": "python",
   "nbconvert_exporter": "python",
   "pygments_lexer": "ipython3",
   "version": "3.12.4"
  }
 },
 "nbformat": 4,
 "nbformat_minor": 2
}
