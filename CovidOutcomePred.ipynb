{
 "cells": [
  {
   "cell_type": "markdown",
   "metadata": {},
   "source": [
    "# **COVID-19 Outcome Prediction**\n",
    "This notebook serves as the main notebook for the Covid-19 Outcome Prediction project. We will be training and assessing different models, and based on the results we will choose the best model to predict the outcome of Covid-19 patients. The models we will be training are:\n",
    "\n",
    "- K-Nearest Neighbors\n",
    "- Logistic Regression\n",
    "- Naive Bayes\n",
    "- Support Vector Machine\n",
    "- Decision Tree\n",
    "---\n",
    "> **_NOTE:_**\n",
    "> - **Individual model notebooks** can be found in the [`notebooks`](notebooks/) directory.\n",
    "> - **Pretrained exported models** are also available and can be found in the [`notebooks/models`](notebooks/models/) directory.\n",
    "> - As per project requirements, all models will be *re-trained and evaluated* in this notebook.\n",
    "---\n",
    "*This project is the collaborative effort of the following team members:*\n",
    "- [Shehab Mahmoud](https://www.github.com/dizzydroid)\n",
    "- [Adham Nasreldin](https://github.com/AdhamNasreldin)\n",
    "- [Kareem Mostafa](https://github.com/KareemMostafa1)\n",
    "\n",
    "*Delivered as part of the **CSE375: Machine Learning & Pattern Recognition** course project, <br />\n",
    "Under supervision of [**Dr. Nesma Rezk**](https://eng.asu.edu.eg/staff/nesma.rezk), [**Dr. Hazem Abbas**](https://eng.asu.edu.eg/staff/hazem.abbas) and [**Eng. Ahmed Elgazwy**](https://eng.asu.edu.eg/staff/ahmed.elgazwy).*\n",
    "\n",
    "---"
   ]
  }
 ],
 "metadata": {
  "language_info": {
   "name": "python"
  }
 },
 "nbformat": 4,
 "nbformat_minor": 2
}
